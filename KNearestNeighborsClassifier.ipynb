{
  "nbformat": 4,
  "nbformat_minor": 0,
  "metadata": {
    "colab": {
      "name": "KNearestNeighborsClassifier.ipynb",
      "provenance": [],
      "collapsed_sections": [],
      "authorship_tag": "ABX9TyM78dAcV3eie7m0XNEpJLoF",
      "include_colab_link": true
    },
    "kernelspec": {
      "name": "python3",
      "display_name": "Python 3"
    }
  },
  "cells": [
    {
      "cell_type": "markdown",
      "metadata": {
        "id": "view-in-github",
        "colab_type": "text"
      },
      "source": [
        "<a href=\"https://colab.research.google.com/github/Kehindeajayi01/Workshops/blob/master/KNearestNeighborsClassifier.ipynb\" target=\"_parent\"><img src=\"https://colab.research.google.com/assets/colab-badge.svg\" alt=\"Open In Colab\"/></a>"
      ]
    },
    {
      "cell_type": "markdown",
      "metadata": {
        "id": "FOBNAxt3iKF-",
        "colab_type": "text"
      },
      "source": [
        ""
      ]
    },
    {
      "cell_type": "markdown",
      "metadata": {
        "id": "OsSyT-YWiM2P",
        "colab_type": "text"
      },
      "source": [
        "## Get the data and split into training and testing set"
      ]
    },
    {
      "cell_type": "code",
      "metadata": {
        "id": "Hnc_LAaeiz9X",
        "colab_type": "code",
        "colab": {
          "base_uri": "https://localhost:8080/",
          "height": 457
        },
        "outputId": "8962d7fd-22c6-4b47-c273-b142a6f0693a"
      },
      "source": [
        "!pip install mglearn"
      ],
      "execution_count": 2,
      "outputs": [
        {
          "output_type": "stream",
          "text": [
            "Collecting mglearn\n",
            "\u001b[?25l  Downloading https://files.pythonhosted.org/packages/fb/01/8d3630ecc767c9de96a9c46e055f2a3a5f9e14a47d3d0348a36a5005fe67/mglearn-0.1.7.tar.gz (540kB)\n",
            "\r\u001b[K     |▋                               | 10kB 14.5MB/s eta 0:00:01\r\u001b[K     |█▏                              | 20kB 1.8MB/s eta 0:00:01\r\u001b[K     |█▉                              | 30kB 2.6MB/s eta 0:00:01\r\u001b[K     |██▍                             | 40kB 1.8MB/s eta 0:00:01\r\u001b[K     |███                             | 51kB 2.2MB/s eta 0:00:01\r\u001b[K     |███▋                            | 61kB 2.6MB/s eta 0:00:01\r\u001b[K     |████▎                           | 71kB 3.0MB/s eta 0:00:01\r\u001b[K     |████▉                           | 81kB 3.4MB/s eta 0:00:01\r\u001b[K     |█████▌                          | 92kB 3.8MB/s eta 0:00:01\r\u001b[K     |██████                          | 102kB 2.9MB/s eta 0:00:01\r\u001b[K     |██████▋                         | 112kB 2.9MB/s eta 0:00:01\r\u001b[K     |███████▎                        | 122kB 2.9MB/s eta 0:00:01\r\u001b[K     |███████▉                        | 133kB 2.9MB/s eta 0:00:01\r\u001b[K     |████████▌                       | 143kB 2.9MB/s eta 0:00:01\r\u001b[K     |█████████                       | 153kB 2.9MB/s eta 0:00:01\r\u001b[K     |█████████▊                      | 163kB 2.9MB/s eta 0:00:01\r\u001b[K     |██████████▎                     | 174kB 2.9MB/s eta 0:00:01\r\u001b[K     |███████████                     | 184kB 2.9MB/s eta 0:00:01\r\u001b[K     |███████████▌                    | 194kB 2.9MB/s eta 0:00:01\r\u001b[K     |████████████▏                   | 204kB 2.9MB/s eta 0:00:01\r\u001b[K     |████████████▊                   | 215kB 2.9MB/s eta 0:00:01\r\u001b[K     |█████████████▎                  | 225kB 2.9MB/s eta 0:00:01\r\u001b[K     |██████████████                  | 235kB 2.9MB/s eta 0:00:01\r\u001b[K     |██████████████▌                 | 245kB 2.9MB/s eta 0:00:01\r\u001b[K     |███████████████▏                | 256kB 2.9MB/s eta 0:00:01\r\u001b[K     |███████████████▊                | 266kB 2.9MB/s eta 0:00:01\r\u001b[K     |████████████████▍               | 276kB 2.9MB/s eta 0:00:01\r\u001b[K     |█████████████████               | 286kB 2.9MB/s eta 0:00:01\r\u001b[K     |█████████████████▋              | 296kB 2.9MB/s eta 0:00:01\r\u001b[K     |██████████████████▏             | 307kB 2.9MB/s eta 0:00:01\r\u001b[K     |██████████████████▊             | 317kB 2.9MB/s eta 0:00:01\r\u001b[K     |███████████████████▍            | 327kB 2.9MB/s eta 0:00:01\r\u001b[K     |████████████████████            | 337kB 2.9MB/s eta 0:00:01\r\u001b[K     |████████████████████▋           | 348kB 2.9MB/s eta 0:00:01\r\u001b[K     |█████████████████████▏          | 358kB 2.9MB/s eta 0:00:01\r\u001b[K     |█████████████████████▉          | 368kB 2.9MB/s eta 0:00:01\r\u001b[K     |██████████████████████▍         | 378kB 2.9MB/s eta 0:00:01\r\u001b[K     |███████████████████████         | 389kB 2.9MB/s eta 0:00:01\r\u001b[K     |███████████████████████▋        | 399kB 2.9MB/s eta 0:00:01\r\u001b[K     |████████████████████████▎       | 409kB 2.9MB/s eta 0:00:01\r\u001b[K     |████████████████████████▉       | 419kB 2.9MB/s eta 0:00:01\r\u001b[K     |█████████████████████████▍      | 430kB 2.9MB/s eta 0:00:01\r\u001b[K     |██████████████████████████      | 440kB 2.9MB/s eta 0:00:01\r\u001b[K     |██████████████████████████▋     | 450kB 2.9MB/s eta 0:00:01\r\u001b[K     |███████████████████████████▎    | 460kB 2.9MB/s eta 0:00:01\r\u001b[K     |███████████████████████████▉    | 471kB 2.9MB/s eta 0:00:01\r\u001b[K     |████████████████████████████▌   | 481kB 2.9MB/s eta 0:00:01\r\u001b[K     |█████████████████████████████   | 491kB 2.9MB/s eta 0:00:01\r\u001b[K     |█████████████████████████████▊  | 501kB 2.9MB/s eta 0:00:01\r\u001b[K     |██████████████████████████████▎ | 512kB 2.9MB/s eta 0:00:01\r\u001b[K     |███████████████████████████████ | 522kB 2.9MB/s eta 0:00:01\r\u001b[K     |███████████████████████████████▌| 532kB 2.9MB/s eta 0:00:01\r\u001b[K     |████████████████████████████████| 542kB 2.9MB/s \n",
            "\u001b[?25hRequirement already satisfied: numpy in /usr/local/lib/python3.6/dist-packages (from mglearn) (1.17.5)\n",
            "Requirement already satisfied: matplotlib in /usr/local/lib/python3.6/dist-packages (from mglearn) (3.1.2)\n",
            "Requirement already satisfied: scikit-learn in /usr/local/lib/python3.6/dist-packages (from mglearn) (0.22.1)\n",
            "Requirement already satisfied: pandas in /usr/local/lib/python3.6/dist-packages (from mglearn) (0.25.3)\n",
            "Requirement already satisfied: pillow in /usr/local/lib/python3.6/dist-packages (from mglearn) (6.2.2)\n",
            "Requirement already satisfied: cycler in /usr/local/lib/python3.6/dist-packages (from mglearn) (0.10.0)\n",
            "Requirement already satisfied: imageio in /usr/local/lib/python3.6/dist-packages (from mglearn) (2.4.1)\n",
            "Requirement already satisfied: python-dateutil>=2.1 in /usr/local/lib/python3.6/dist-packages (from matplotlib->mglearn) (2.6.1)\n",
            "Requirement already satisfied: pyparsing!=2.0.4,!=2.1.2,!=2.1.6,>=2.0.1 in /usr/local/lib/python3.6/dist-packages (from matplotlib->mglearn) (2.4.6)\n",
            "Requirement already satisfied: kiwisolver>=1.0.1 in /usr/local/lib/python3.6/dist-packages (from matplotlib->mglearn) (1.1.0)\n",
            "Requirement already satisfied: scipy>=0.17.0 in /usr/local/lib/python3.6/dist-packages (from scikit-learn->mglearn) (1.4.1)\n",
            "Requirement already satisfied: joblib>=0.11 in /usr/local/lib/python3.6/dist-packages (from scikit-learn->mglearn) (0.14.1)\n",
            "Requirement already satisfied: pytz>=2017.2 in /usr/local/lib/python3.6/dist-packages (from pandas->mglearn) (2018.9)\n",
            "Requirement already satisfied: six in /usr/local/lib/python3.6/dist-packages (from cycler->mglearn) (1.12.0)\n",
            "Requirement already satisfied: setuptools in /usr/local/lib/python3.6/dist-packages (from kiwisolver>=1.0.1->matplotlib->mglearn) (42.0.2)\n",
            "Building wheels for collected packages: mglearn\n",
            "  Building wheel for mglearn (setup.py) ... \u001b[?25l\u001b[?25hdone\n",
            "  Created wheel for mglearn: filename=mglearn-0.1.7-py2.py3-none-any.whl size=582705 sha256=b12a9b55acd08231bdc941a3580239c3de1e3d660c44880100e96e6bb881c245\n",
            "  Stored in directory: /root/.cache/pip/wheels/74/cf/8d/04f4932d15854a36726c6210763c7127e62de28f5c8ddfcf3b\n",
            "Successfully built mglearn\n",
            "Installing collected packages: mglearn\n",
            "Successfully installed mglearn-0.1.7\n"
          ],
          "name": "stdout"
        }
      ]
    },
    {
      "cell_type": "code",
      "metadata": {
        "id": "G7p2wOaEh-FH",
        "colab_type": "code",
        "colab": {
          "base_uri": "https://localhost:8080/",
          "height": 52
        },
        "outputId": "3c23b638-7b03-4607-e1e0-489a6d25d97b"
      },
      "source": [
        "import mglearn\n",
        "from sklearn.model_selection import train_test_split\n",
        "X, y = mglearn.datasets.make_forge()\n",
        "X_train, X_test, y_train, y_test = train_test_split(X, y, random_state = 0)"
      ],
      "execution_count": 5,
      "outputs": [
        {
          "output_type": "stream",
          "text": [
            "/usr/local/lib/python3.6/dist-packages/sklearn/utils/deprecation.py:87: FutureWarning: Function make_blobs is deprecated; Please import make_blobs directly from scikit-learn\n",
            "  warnings.warn(msg, category=FutureWarning)\n"
          ],
          "name": "stderr"
        }
      ]
    },
    {
      "cell_type": "markdown",
      "metadata": {
        "id": "xuh4oKxyjSCe",
        "colab_type": "text"
      },
      "source": [
        "## Explore the data\n",
        "* Check the keys (what is contained in the data) of the data\n",
        "* Examine the shape\n",
        "* etc"
      ]
    },
    {
      "cell_type": "code",
      "metadata": {
        "id": "ag6r8Zn6ixYe",
        "colab_type": "code",
        "colab": {
          "base_uri": "https://localhost:8080/",
          "height": 34
        },
        "outputId": "f513d7f8-fca6-4895-df50-f348cce6ebaa"
      },
      "source": [
        "X_train.shape, X_test.shape"
      ],
      "execution_count": 6,
      "outputs": [
        {
          "output_type": "execute_result",
          "data": {
            "text/plain": [
              "((19, 2), (7, 2))"
            ]
          },
          "metadata": {
            "tags": []
          },
          "execution_count": 6
        }
      ]
    },
    {
      "cell_type": "markdown",
      "metadata": {
        "id": "3-JTIxngj_bu",
        "colab_type": "text"
      },
      "source": [
        "## Train a simple Knn Classifier"
      ]
    },
    {
      "cell_type": "code",
      "metadata": {
        "id": "mr83sxZliip-",
        "colab_type": "code",
        "colab": {
          "base_uri": "https://localhost:8080/",
          "height": 52
        },
        "outputId": "554b79e5-66e5-4566-9086-39bbc77fc9fa"
      },
      "source": [
        "from sklearn.neighbors import KNeighborsClassifier\n",
        "knn = KNeighborsClassifier(n_neighbors = 5)\n",
        "knn.fit(X_train, y_train)\n",
        "print(\"Test prediction: \\n{}\".format(knn.predict(X_test)))"
      ],
      "execution_count": 8,
      "outputs": [
        {
          "output_type": "stream",
          "text": [
            "Test prediction: \n",
            "[1 0 1 0 1 0 0]\n"
          ],
          "name": "stdout"
        }
      ]
    },
    {
      "cell_type": "markdown",
      "metadata": {
        "id": "j5A2xlTCkrtw",
        "colab_type": "text"
      },
      "source": [
        "## Evaluate the Model's Performance\n",
        "* We see that our model was 86% accurate on the new data. This means that our model is predicted to correctly classify the label for new data 86% of the time."
      ]
    },
    {
      "cell_type": "code",
      "metadata": {
        "id": "yclYpB7wj5Qh",
        "colab_type": "code",
        "colab": {
          "base_uri": "https://localhost:8080/",
          "height": 34
        },
        "outputId": "9f4dd49c-7c98-4d17-ac48-380c841910ae"
      },
      "source": [
        "print(\"Test Accuracy: {:.3f}\".format(knn.score(X_test, y_test)))"
      ],
      "execution_count": 10,
      "outputs": [
        {
          "output_type": "stream",
          "text": [
            "Test Accuracy: 0.857\n"
          ],
          "name": "stdout"
        }
      ]
    },
    {
      "cell_type": "markdown",
      "metadata": {
        "id": "EK7T6KGsmqRw",
        "colab_type": "text"
      },
      "source": [
        "## Analyzing KNeighborsClassifier\n",
        "* Visualizing the decision boundaries for 1 , 3 and 9 neighbors.\n",
        "* From the plots below, we can see that a single neighbor results in a decision boundary that follows the data closely. As more and more neighbors are considered a smoother boundary is obtained and a smoother boundary corresponds to a simpler model. In other words, using few neighbors corresponds to high model complexity."
      ]
    },
    {
      "cell_type": "code",
      "metadata": {
        "id": "k3OSLo7ck92O",
        "colab_type": "code",
        "colab": {
          "base_uri": "https://localhost:8080/",
          "height": 230
        },
        "outputId": "a7ddce01-a51d-411b-a26e-97e70294bc9a"
      },
      "source": [
        "import matplotlib.pyplot as plt\n",
        "\n",
        "fig, axes = plt.subplots(1, 3, figsize = (10,3))\n",
        "\n",
        "for n_neighbors, ax in zip([1,3,9], axes):\n",
        "  knn = KNeighborsClassifier(n_neighbors=n_neighbors)\n",
        "  knn.fit(X,y)\n",
        "  mglearn.plots.plot_2d_separator(knn, X, fill = True, alpha = 0.5, eps = 0.5, ax = ax)\n",
        "  mglearn.discrete_scatter(X[:,0],X[:,1], y, ax = ax)\n",
        "  ax.set_label('feature 0')\n",
        "  ax.set_label('feature 1')\n",
        "  ax.set_title(\"{} neighbor(s)\".format(n_neighbors))\n",
        "axes[0].legend(loc = 'best')"
      ],
      "execution_count": 14,
      "outputs": [
        {
          "output_type": "execute_result",
          "data": {
            "text/plain": [
              "<matplotlib.legend.Legend at 0x7f8e51c50e80>"
            ]
          },
          "metadata": {
            "tags": []
          },
          "execution_count": 14
        },
        {
          "output_type": "display_data",
          "data": {
            "image/png": "[encoded data removed]",
            "text/plain": [
              "<Figure size 720x216 with 3 Axes>"
            ]
          },
          "metadata": {
            "tags": []
          }
        }
      ]
    },
    {
      "cell_type": "markdown",
      "metadata": {
        "id": "x74ncgNlrVjv",
        "colab_type": "text"
      },
      "source": [
        "## Examining the connection between Model complexity and Generalization\n",
        "* To do this, we use the real-world Breast Cancer dataset. Then we plot the model's accuracies (training and test accuracy) for 1 to 10 neighbors. "
      ]
    },
    {
      "cell_type": "code",
      "metadata": {
        "id": "yU2lqhuoogQD",
        "colab_type": "code",
        "colab": {
          "base_uri": "https://localhost:8080/",
          "height": 297
        },
        "outputId": "739de447-f8a4-432d-c7b2-e9d26dbf1ef3"
      },
      "source": [
        "from sklearn.datasets import load_breast_cancer\n",
        "cancer = load_breast_cancer()\n",
        "X_train, X_test, y_train, y_test = train_test_split(cancer.data, cancer.target, random_state = 0)\n",
        "\n",
        "training_accuracy = []\n",
        "test_accuracy = []\n",
        "neighbors_setting = range(1,11)\n",
        "\n",
        "for n_neighbors in neighbors_setting:\n",
        "  knn = KNeighborsClassifier(n_neighbors=n_neighbors)\n",
        "  knn.fit(X_train, y_train)\n",
        "  training_accuracy.append(knn.score(X_train, y_train))\n",
        "  test_accuracy.append(knn.score(X_test, y_test))\n",
        "\n",
        "import matplotlib.pyplot as plt\n",
        "plt.plot(neighbors_setting, training_accuracy, label = \"training accuracy\")\n",
        "plt.plot(neighbors_setting, test_accuracy, label = \"test accuracy\")\n",
        "plt.xlabel(\"Number of neighbors\")\n",
        "plt.ylabel(\"Accuracy\")\n",
        "plt.legend(loc = 'best')"
      ],
      "execution_count": 15,
      "outputs": [
        {
          "output_type": "execute_result",
          "data": {
            "text/plain": [
              "<matplotlib.legend.Legend at 0x7f8e51567dd8>"
            ]
          },
          "metadata": {
            "tags": []
          },
          "execution_count": 15
        },
        {
          "output_type": "display_data",
          "data": {
            "image/png": "[encoded data removed]",
            "text/plain": [
              "<Figure size 432x288 with 1 Axes>"
            ]
          },
          "metadata": {
            "tags": []
          }
        }
      ]
    },
    {
      "cell_type": "code",
      "metadata": {
        "id": "55PlY_rCuUYx",
        "colab_type": "code",
        "colab": {}
      },
      "source": [
        ""
      ],
      "execution_count": 0,
      "outputs": []
    }
  ]
}